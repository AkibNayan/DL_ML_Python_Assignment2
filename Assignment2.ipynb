{
 "cells": [
  {
   "cell_type": "markdown",
   "id": "0177208d-a1a2-48a5-a1c2-c0ae2844954c",
   "metadata": {},
   "source": [
    "1. Write a program that swaps the values of two variables."
   ]
  },
  {
   "cell_type": "code",
   "execution_count": 2,
   "id": "778ec4c6-3e65-48cb-a7db-cb4026b474cb",
   "metadata": {},
   "outputs": [
    {
     "name": "stdout",
     "output_type": "stream",
     "text": [
      "20\n",
      "10\n"
     ]
    }
   ],
   "source": [
    "a = 10\n",
    "b = 20\n",
    "a, b = b, a\n",
    "print(a)\n",
    "print(b)"
   ]
  },
  {
   "cell_type": "markdown",
   "id": "07a82144-5f22-45b6-add3-fef5e34fb6d8",
   "metadata": {},
   "source": [
    "2. Write a program that calculates the area of a rectangle given its length and width."
   ]
  },
  {
   "cell_type": "code",
   "execution_count": 3,
   "id": "9871e436-bd49-4ed2-8030-c07f4cee2c58",
   "metadata": {},
   "outputs": [
    {
     "name": "stdin",
     "output_type": "stream",
     "text": [
      "Enter the length of a rectangle:  10\n",
      "Enter the width of a rectangle:  15\n"
     ]
    },
    {
     "name": "stdout",
     "output_type": "stream",
     "text": [
      "The area of rectangle given it's length and width is:  150\n"
     ]
    }
   ],
   "source": [
    "length = int(input(\"Enter the length of a rectangle: \"))\n",
    "width = int(input(\"Enter the width of a rectangle: \"))\n",
    "area = length * width\n",
    "print(\"The area of rectangle given it's length and width is: \",area) "
   ]
  },
  {
   "cell_type": "markdown",
   "id": "d9041e54-d2e5-43cf-9f0d-33008c7d2a8f",
   "metadata": {},
   "source": [
    "3. Write a program that converts temperature from Fahrenheit to Celsius.\n",
    "   "
   ]
  },
  {
   "cell_type": "code",
   "execution_count": 11,
   "id": "f4a24d6b-d5ad-4e15-bc60-b2ce0ca7e061",
   "metadata": {},
   "outputs": [
    {
     "name": "stdin",
     "output_type": "stream",
     "text": [
      "Enter temperature in fahrenheit unit:  98\n"
     ]
    },
    {
     "name": "stdout",
     "output_type": "stream",
     "text": [
      "98 °F is equal to 36.67 °C\n"
     ]
    }
   ],
   "source": [
    "f_temp = int(input(\"Enter temperature in fahrenheit unit: \"))\n",
    "def celsius(f_temp):\n",
    "    return ((f_temp -32) * 5) / 9\n",
    "print(f\"{f_temp} °F is equal to {celsius(f_temp):.2f} °C\")"
   ]
  },
  {
   "cell_type": "markdown",
   "id": "385a0ede-1d92-4543-b471-c1d86e742ebe",
   "metadata": {},
   "source": [
    "4. Write a program that calculates the volume of a sphere given its radius.\r\n"
   ]
  },
  {
   "cell_type": "code",
   "execution_count": 17,
   "id": "dda1fe4b-99e6-4c47-b701-1d41631a1add",
   "metadata": {},
   "outputs": [
    {
     "name": "stdin",
     "output_type": "stream",
     "text": [
      "Enter the radius of a Sphere:  4\n"
     ]
    },
    {
     "name": "stdout",
     "output_type": "stream",
     "text": [
      "The volume of given radius for a Sphere is : 268.08\n"
     ]
    }
   ],
   "source": [
    "import math\n",
    "radius = int(input(\"Enter the radius of a Sphere: \"))\n",
    "def volume(radius):\n",
    "    return (4/3) * math.pi * (radius ** 3)\n",
    "print(f\"The volume of given radius for a Sphere is : {volumn(radius):.2f}\")"
   ]
  },
  {
   "cell_type": "markdown",
   "id": "69cbd2fb-932a-4fb3-ad37-bfbaf41cee55",
   "metadata": {},
   "source": [
    "5. Write a program that finds the average of three numbers."
   ]
  },
  {
   "cell_type": "code",
   "execution_count": 20,
   "id": "e51bfaf9-a698-4b51-b536-a22b8c221fbe",
   "metadata": {},
   "outputs": [
    {
     "name": "stdin",
     "output_type": "stream",
     "text": [
      "Enter first number:  4\n",
      "Enter second number:  5\n",
      "Enter third number:  6\n"
     ]
    },
    {
     "name": "stdout",
     "output_type": "stream",
     "text": [
      "The average of three numbers is: 5\n"
     ]
    }
   ],
   "source": [
    "a = int(input(\"Enter first number: \"))\n",
    "b = int(input(\"Enter second number: \"))\n",
    "c= int(input(\"Enter third number: \"))\n",
    "def average(a, b, c):\n",
    "    return (a + b + c) / 3\n",
    "print(f\"The average of three numbers is: {int(average(a, b, c))}\")"
   ]
  },
  {
   "cell_type": "markdown",
   "id": "d9854d1c-a879-420a-bad4-a2f6a5d5f454",
   "metadata": {},
   "source": [
    "6. Write a program that determines if a number is even or odd."
   ]
  },
  {
   "cell_type": "code",
   "execution_count": 27,
   "id": "97c73a10-463c-4282-b59b-10a6234fc283",
   "metadata": {},
   "outputs": [
    {
     "name": "stdin",
     "output_type": "stream",
     "text": [
      "Enter a number:  1012\n"
     ]
    },
    {
     "name": "stdout",
     "output_type": "stream",
     "text": [
      "The given number is even\n"
     ]
    }
   ],
   "source": [
    "num = int(input(\"Enter a number: \"))\n",
    "def type_check(num):\n",
    "    if num % 2 == 0:\n",
    "        print(\"The given number is even\")\n",
    "    else:\n",
    "        print(\"The given number is odd\")\n",
    "type_check(num)"
   ]
  },
  {
   "cell_type": "markdown",
   "id": "1def4d17-8334-4669-9c62-434742232347",
   "metadata": {},
   "source": [
    "7. Write a program that finds the maximum of three numbers."
   ]
  },
  {
   "cell_type": "code",
   "execution_count": 36,
   "id": "99adbbda-8cc5-43b8-a722-576008a2bbcd",
   "metadata": {},
   "outputs": [
    {
     "name": "stdin",
     "output_type": "stream",
     "text": [
      "Enter first number:  12\n",
      "Enter second number:  12\n",
      "Enter third number:  10\n"
     ]
    },
    {
     "name": "stdout",
     "output_type": "stream",
     "text": [
      "12 is the largest value\n"
     ]
    }
   ],
   "source": [
    "a = int(input(\"Enter first number: \"))\n",
    "b = int(input(\"Enter second number: \"))\n",
    "c= int(input(\"Enter third number: \"))\n",
    "def Maximum(a, b, c):\n",
    "    if a >= b and a >= c:\n",
    "        print(f\"{a} is the largest value\")\n",
    "    elif b >= a and b >= c:\n",
    "        print(f\"{b} is the largest value\")\n",
    "    else:\n",
    "        print(f\"{c} is the largest value\")\n",
    "Maximum(a, b, c)"
   ]
  },
  {
   "cell_type": "markdown",
   "id": "6dceb170-582c-413d-a89a-56f77bcf21b2",
   "metadata": {},
   "source": [
    "8. Write a program that determines if a year is a leap year or not."
   ]
  },
  {
   "cell_type": "code",
   "execution_count": 2,
   "id": "aba3b718-27c0-4eb2-a6ee-ca6afade77af",
   "metadata": {},
   "outputs": [
    {
     "name": "stdin",
     "output_type": "stream",
     "text": [
      "Enter a year to check leap year or not:  2012\n"
     ]
    },
    {
     "name": "stdout",
     "output_type": "stream",
     "text": [
      "2012 is a leap year\n"
     ]
    }
   ],
   "source": [
    "year = int(input(\"Enter a year to check leap year or not: \"))\n",
    "def leap_year(year):\n",
    "    if year % 4 == 0 and year % 100 != 0:\n",
    "        print(f\"{year} is a leap year\")\n",
    "    elif year % 100 == 0 and year % 400 == 0:\n",
    "        print(f\"{year} is a leap year\")\n",
    "    else:\n",
    "        print(f\"{year} is not a leap year\")\n",
    "leap_year(year)"
   ]
  },
  {
   "cell_type": "markdown",
   "id": "def959e6-3d76-4fc2-afcc-15b8e7725c96",
   "metadata": {},
   "source": [
    "9. Write a program that determines if a number is positive, negative, or zero."
   ]
  },
  {
   "cell_type": "code",
   "execution_count": 6,
   "id": "c19d5f2c-0934-48f1-8ce0-79c254f50bb3",
   "metadata": {},
   "outputs": [
    {
     "name": "stdin",
     "output_type": "stream",
     "text": [
      "Enter a valid number:  -4\n"
     ]
    },
    {
     "name": "stdout",
     "output_type": "stream",
     "text": [
      "-4 is a negative number\n"
     ]
    }
   ],
   "source": [
    "num = int(input(\"Enter a valid number: \"))\n",
    "def num_check(num):\n",
    "    if num > 0:\n",
    "        print(f\"{num} is a positive number\")\n",
    "    elif num < 0:\n",
    "        print(f\"{num} is a negative number\")\n",
    "    else:\n",
    "        print(f\"{num} is a zero number\")\n",
    "\n",
    "num_check(num)"
   ]
  },
  {
   "cell_type": "markdown",
   "id": "d6c810b5-4ad2-4c1d-a59c-a72874a97f61",
   "metadata": {},
   "source": [
    "10. Write a program that calculates the grade based on a given percentage."
   ]
  },
  {
   "cell_type": "code",
   "execution_count": 2,
   "id": "b977ee49-fa18-4df9-a384-a4ae05b779ce",
   "metadata": {},
   "outputs": [
    {
     "name": "stdin",
     "output_type": "stream",
     "text": [
      "Enter a percentage:  80\n"
     ]
    },
    {
     "name": "stdout",
     "output_type": "stream",
     "text": [
      "The grade is: B\n"
     ]
    }
   ],
   "source": [
    "def calculate_grade(percentage):\n",
    "    if not(0 <= percentage <= 100):\n",
    "        return \"Invalid percentage. Please enter a percentage between 0 and 100\"\n",
    "    if percentage >= 90:\n",
    "        return \"A\"\n",
    "    elif percentage >= 80:\n",
    "        return \"B\"\n",
    "    elif percentage >= 70:\n",
    "        return \"C\"\n",
    "    elif percentage >= 60:\n",
    "        return \"D\"\n",
    "    else:\n",
    "        return \"F\"\n",
    "percentage = float(input(\"Enter a percentage: \"))\n",
    "grade = calculate_grade(percentage)   \n",
    "print(f\"The grade is: {grade}\")"
   ]
  },
  {
   "cell_type": "markdown",
   "id": "0d867209-2123-4e7d-9836-f984bb64d25d",
   "metadata": {},
   "source": [
    "11. Write a program that prints the first `n` natural numbers."
   ]
  },
  {
   "cell_type": "code",
   "execution_count": 3,
   "id": "4549e5e2-4fce-4503-96b3-49259a43a8f7",
   "metadata": {},
   "outputs": [
    {
     "name": "stdin",
     "output_type": "stream",
     "text": [
      "Enter a positive number:  10\n"
     ]
    },
    {
     "name": "stdout",
     "output_type": "stream",
     "text": [
      "1 2 3 4 5 6 7 8 9 10 "
     ]
    }
   ],
   "source": [
    "def natural_num(num):\n",
    "    if num <= 0:\n",
    "        print(\"Please enter a positive number\")\n",
    "        return\n",
    "    for i in range(1, num+1):\n",
    "        print(i, end=\" \")\n",
    "num = int(input(\"Enter a positive number: \"))\n",
    "natural_num(num)"
   ]
  },
  {
   "cell_type": "markdown",
   "id": "69ec42a0-689a-49fa-b891-aad8f95d2680",
   "metadata": {},
   "source": [
    "12. Write a program that calculates the factorial of a number."
   ]
  },
  {
   "cell_type": "code",
   "execution_count": 8,
   "id": "2a0985ca-235f-41d0-9f34-e24067335411",
   "metadata": {},
   "outputs": [
    {
     "name": "stdin",
     "output_type": "stream",
     "text": [
      "Enter a valid input 5\n"
     ]
    },
    {
     "name": "stdout",
     "output_type": "stream",
     "text": [
      "120\n"
     ]
    }
   ],
   "source": [
    "def factorial(n):\n",
    "    if n < 0:\n",
    "        return \"Factorial is not defined for negative numbers\"\n",
    "    elif n == 0 or n == 1:\n",
    "        return 1\n",
    "    else:\n",
    "        return n * factorial(n-1)\n",
    "n = int(input(\"Enter a valid input\"))\n",
    "print(factorial(n))"
   ]
  },
  {
   "cell_type": "markdown",
   "id": "775b71c4-c40f-41dd-a7c2-1982a4e8c705",
   "metadata": {},
   "source": [
    "13. Write a program that generates a Fibonacci sequence of length `n`."
   ]
  },
  {
   "cell_type": "code",
   "execution_count": 10,
   "id": "20300d80-0ce5-42e0-b78c-b6e28449f4e9",
   "metadata": {},
   "outputs": [
    {
     "name": "stdin",
     "output_type": "stream",
     "text": [
      "Enter a valid number:  5\n"
     ]
    },
    {
     "name": "stdout",
     "output_type": "stream",
     "text": [
      "[0, 1, 1, 2, 3]\n"
     ]
    }
   ],
   "source": [
    "def fibonacci_generate(n):\n",
    "    if n <= 0:\n",
    "        return \"Please enter a positive integer\"\n",
    "    fibonacci_list = []\n",
    "    if n >= 1:\n",
    "        fibonacci_list.append(0)\n",
    "    if n >= 2:\n",
    "        fibonacci_list.append(1)\n",
    "    for i in range(2, n):\n",
    "        fibonacci_list.append(fibonacci_list[i-1] + fibonacci_list[i-2])\n",
    "    return fibonacci_list\n",
    "n = int(input(\"Enter a valid number: \"))\n",
    "print(fibonacci_generate(n))\n",
    "    "
   ]
  },
  {
   "cell_type": "markdown",
   "id": "e3692967-d892-433e-a66f-629c7decbfe8",
   "metadata": {},
   "source": [
    "14. Write a program that checks if a given number is prime or not."
   ]
  },
  {
   "cell_type": "code",
   "execution_count": 21,
   "id": "9678bb57-7bbf-4ebe-a8e2-475565545280",
   "metadata": {},
   "outputs": [
    {
     "name": "stdin",
     "output_type": "stream",
     "text": [
      "Enter a positive number 79\n"
     ]
    },
    {
     "name": "stdout",
     "output_type": "stream",
     "text": [
      "79 is a prime number\n"
     ]
    }
   ],
   "source": [
    "def prime(n):\n",
    "    flag = 0\n",
    "    if n == 0 or n == 1:\n",
    "        flag = 1\n",
    "    i = 2\n",
    "    while i <= n/2:\n",
    "        if n % i == 0:\n",
    "            flag = 1\n",
    "        i += 1\n",
    "    if flag == 0:\n",
    "        print(f\"{n} is a prime number\")\n",
    "    elif flag == 1:\n",
    "        print(f\"{n} is not a prime number\")\n",
    "n = int(input(\"Enter a positive number\"))\n",
    "prime(n)"
   ]
  },
  {
   "cell_type": "markdown",
   "id": "24a26041-c973-40f0-9fc2-284499f2f9b8",
   "metadata": {},
   "source": [
    "15. Write a program that prints the multiplication table of a given number."
   ]
  },
  {
   "cell_type": "code",
   "execution_count": 24,
   "id": "53d61b44-8bbf-4b9a-bc7e-82b65883143a",
   "metadata": {},
   "outputs": [
    {
     "name": "stdin",
     "output_type": "stream",
     "text": [
      "Enter a positive number: 8\n"
     ]
    },
    {
     "name": "stdout",
     "output_type": "stream",
     "text": [
      "Multiplication table for 8 is: \n",
      "8 x 1 = 8\n",
      "8 x 2 = 16\n",
      "8 x 3 = 24\n",
      "8 x 4 = 32\n",
      "8 x 5 = 40\n",
      "8 x 6 = 48\n",
      "8 x 7 = 56\n",
      "8 x 8 = 64\n",
      "8 x 9 = 72\n",
      "8 x 10 = 80\n"
     ]
    }
   ],
   "source": [
    "def multiplication_table(number):\n",
    "    print(f\"Multiplication table for {number} is: \")\n",
    "    for i in range(1, 11):\n",
    "        print(f\"{number} x {i} = {number * i}\")\n",
    "number = int(input(\"Enter a positive number:\"))\n",
    "multiplication_table(number)"
   ]
  },
  {
   "cell_type": "markdown",
   "id": "ec9fdafc-ce3b-42dc-86be-62583f0e8d3f",
   "metadata": {},
   "source": [
    "16. Write a program that finds the sum of all even numbers between 1 and `n`."
   ]
  },
  {
   "cell_type": "code",
   "execution_count": 29,
   "id": "f93eddb9-3366-4839-bf15-4b79bf0b531a",
   "metadata": {},
   "outputs": [
    {
     "name": "stdin",
     "output_type": "stream",
     "text": [
      "Enter a valid number 12\n"
     ]
    },
    {
     "name": "stdout",
     "output_type": "stream",
     "text": [
      "Sum of even number till n is : 42\n"
     ]
    }
   ],
   "source": [
    "def even_sum(n):\n",
    "    sum = 0\n",
    "    for i in range(1, n+1):\n",
    "        if i % 2 == 0:\n",
    "            sum += i\n",
    "    return sum\n",
    "n = int(input(\"Enter a valid number\"))\n",
    "print(f\"Sum of even number till n is : {even_sum(n)}\")"
   ]
  },
  {
   "cell_type": "markdown",
   "id": "578a30f2-eb0f-43bd-8166-9ea59bf2d8ff",
   "metadata": {},
   "source": [
    "17. Write a program that reverses a given number."
   ]
  },
  {
   "cell_type": "code",
   "execution_count": 44,
   "id": "61caf3f4-4ec8-40b7-aaf4-c26e0224957e",
   "metadata": {},
   "outputs": [
    {
     "name": "stdin",
     "output_type": "stream",
     "text": [
      "Enter a valid number 1234\n"
     ]
    },
    {
     "name": "stdout",
     "output_type": "stream",
     "text": [
      "Reverse number is : 4321\n"
     ]
    }
   ],
   "source": [
    "def reverse(n):\n",
    "    reverse = 0\n",
    "    while (n != 0):\n",
    "        remainder = n % 10\n",
    "        reverse = reverse * 10 + remainder\n",
    "        n = n // 10\n",
    "\n",
    "    print(f\"Reverse number is : {reverse}\")\n",
    "number = int(input(\"Enter a valid number\"))\n",
    "reverse(number)"
   ]
  },
  {
   "cell_type": "markdown",
   "id": "92b36863-a675-4009-b0bc-9cb60273ee3e",
   "metadata": {},
   "source": [
    "18. Write a program that checks if a given string, is a palindrome."
   ]
  },
  {
   "cell_type": "code",
   "execution_count": 47,
   "id": "379311bd-2b32-4b8f-87a9-b36c73ee3a3d",
   "metadata": {},
   "outputs": [
    {
     "name": "stdin",
     "output_type": "stream",
     "text": [
      "Enter a valid number 2552\n"
     ]
    },
    {
     "name": "stdout",
     "output_type": "stream",
     "text": [
      "2552 is a palindrome number\n"
     ]
    }
   ],
   "source": [
    "def palindrome(n):\n",
    "    reverse = 0\n",
    "    original = n\n",
    "    while (n != 0):\n",
    "        remainder = n % 10\n",
    "        reverse = reverse * 10 + remainder\n",
    "        n = n // 10\n",
    "    \n",
    "    if original == reverse:\n",
    "        print(f\"{original} is a palindrome number\")\n",
    "    else:\n",
    "        print(f\"{original} is not a palindrome number\")\n",
    "number = int(input(\"Enter a valid number\"))\n",
    "palindrome(number)"
   ]
  },
  {
   "cell_type": "markdown",
   "id": "edf1e543-79e4-4281-98d7-608212465266",
   "metadata": {},
   "source": [
    "19. Write a program that generates a random number and allows the user to guess it."
   ]
  },
  {
   "cell_type": "code",
   "execution_count": 8,
   "id": "1b01c8fd-c238-4eb6-bac9-e87db3e41513",
   "metadata": {},
   "outputs": [
    {
     "name": "stdout",
     "output_type": "stream",
     "text": [
      "9\n"
     ]
    },
    {
     "name": "stdin",
     "output_type": "stream",
     "text": [
      "Enter your guess 23\n"
     ]
    },
    {
     "name": "stdout",
     "output_type": "stream",
     "text": [
      "Too High! Try again\n"
     ]
    },
    {
     "name": "stdin",
     "output_type": "stream",
     "text": [
      "Enter your guess 2\n"
     ]
    },
    {
     "name": "stdout",
     "output_type": "stream",
     "text": [
      "Too low! Try again\n"
     ]
    },
    {
     "name": "stdin",
     "output_type": "stream",
     "text": [
      "Enter your guess 9\n"
     ]
    },
    {
     "name": "stdout",
     "output_type": "stream",
     "text": [
      "Congratulations! You've guessed the number in 3 attempts.\n"
     ]
    }
   ],
   "source": [
    "import random\n",
    "def guess_the_num():\n",
    "    number_to_guess = random.randint(1, 100)\n",
    "    print(number_to_guess)\n",
    "    attempts = 0\n",
    "    guessed_correctly = False\n",
    "    while not guessed_correctly:\n",
    "        guess = int(input(\"Enter your guess\"))\n",
    "        attempts += 1\n",
    "        if guess < number_to_guess:\n",
    "            print(\"Too low! Try again\")\n",
    "        elif guess > number_to_guess:\n",
    "            print(\"Too High! Try again\")\n",
    "        else:\n",
    "            print(f\"Congratulations! You've guessed the number in {attempts} attempts.\")\n",
    "            guessed_correctly = True\n",
    "guess_the_num()"
   ]
  },
  {
   "cell_type": "markdown",
   "id": "469b4748-584e-440e-9a29-65eac52869a0",
   "metadata": {},
   "source": [
    "20. Write a program that finds the greatest common divisor (GCD) of two numbers."
   ]
  },
  {
   "cell_type": "code",
   "execution_count": 10,
   "id": "3725abe6-b56a-4d47-8440-65bd1de6185c",
   "metadata": {},
   "outputs": [
    {
     "name": "stdin",
     "output_type": "stream",
     "text": [
      "Enter the first number:  23\n",
      "Enter the second number:  12\n"
     ]
    },
    {
     "name": "stdout",
     "output_type": "stream",
     "text": [
      "The GCD of 23 and 12 is: 1\n"
     ]
    }
   ],
   "source": [
    "def gcd(a, b):\n",
    "    if(b == 0):\n",
    "        return a\n",
    "    else:\n",
    "        return gcd(b, a % b)\n",
    "\n",
    "# Example usage:\n",
    "num1 = int(input(\"Enter the first number: \"))\n",
    "num2 = int(input(\"Enter the second number: \"))\n",
    "\n",
    "result = gcd(num1, num2)\n",
    "print(f\"The GCD of {num1} and {num2} is: {result}\")\n"
   ]
  },
  {
   "cell_type": "code",
   "execution_count": null,
   "id": "4a2a5a50-8ba8-4cdd-900f-ef023c7743d4",
   "metadata": {},
   "outputs": [],
   "source": []
  }
 ],
 "metadata": {
  "kernelspec": {
   "display_name": "Python 3 (ipykernel)",
   "language": "python",
   "name": "python3"
  },
  "language_info": {
   "codemirror_mode": {
    "name": "ipython",
    "version": 3
   },
   "file_extension": ".py",
   "mimetype": "text/x-python",
   "name": "python",
   "nbconvert_exporter": "python",
   "pygments_lexer": "ipython3",
   "version": "3.11.7"
  }
 },
 "nbformat": 4,
 "nbformat_minor": 5
}
